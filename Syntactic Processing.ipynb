{
 "cells": [
  {
   "cell_type": "markdown",
   "id": "49cdfd98",
   "metadata": {},
   "source": [
    "# Syntactic Processing Case Study"
   ]
  },
  {
   "cell_type": "markdown",
   "id": "6aab8c73",
   "metadata": {},
   "source": [
    "# Problem Statement"
   ]
  },
  {
   "cell_type": "markdown",
   "id": "12405f13",
   "metadata": {},
   "source": [
    "**BeHealthy**, a health tech company, connects medical professionals with millions of patients nationwide through its web platform. The platform enables doctors to list services, manage patient interactions, and facilitates patient services like online appointment booking and medicine orders. It streamlines appointment organization, allows tracking of medical records, and supports the issuance of e-prescriptions."
   ]
  },
  {
   "cell_type": "markdown",
   "id": "66a6bb51",
   "metadata": {},
   "source": [
    "**BeHealthy** needs a **predictive model** to discern diseases and treatments based on patient interactions with doctors or online medicine orders."
   ]
  },
  {
   "cell_type": "markdown",
   "id": "0fd50702",
   "metadata": {},
   "source": [
    "**Objective:**\n",
    "    \n",
    "- The aim is to extract essential details from text, identifying relevant entities. This is crucial given the medical terminology used in conversations between healthcare professionals and patients, diverging from everyday language.\n",
    "- Extract key insights from text while identifying relevant entities, driven by the specialized medical terminology used in conversations between healthcare professionals and patients, distinct from everyday language. "
   ]
  },
  {
   "cell_type": "markdown",
   "id": "735328eb",
   "metadata": {},
   "source": [
    "**Methodology:**\n",
    "\n",
    "In meeting the requirements, it's evident we must analyze text, identifying entities such as diseases and treatments. These needs can be anticipated through predictive methods.\n",
    "  - CRF (Conditional Random Field) Classifier\n",
    "  - Random Forest Classifier\n",
    "  - HMM (Hidden Markov Model)"
   ]
  },
  {
   "cell_type": "markdown",
   "id": "affaae84",
   "metadata": {},
   "source": [
    "**Developing a CRF model with custom NER for Medical Entity Recognition, as the targeted entities pertain exclusively to medical terminologies.**"
   ]
  },
  {
   "cell_type": "markdown",
   "id": "de6396e2",
   "metadata": {},
   "source": [
    "We are provided with four data files for this activity:\n",
    "\n",
    "1. Train Sentence Dataset\n",
    "2. Train Label Dataset\n",
    "3. Test Sentence Dataset\n",
    "4. Test Label Dataset\n",
    "\n",
    "The **sentence file** encompasses patient-doctor interactions, while the **label file** contains entity tags aligned with specific words within each sentence. Further preprocessing steps will be undertaken during dataset access."
   ]
  },
  {
   "cell_type": "markdown",
   "id": "2422e29a",
   "metadata": {},
   "source": [
    "# Importing Required Libraries"
   ]
  },
  {
   "cell_type": "code",
   "execution_count": 1,
   "id": "a5ec62a9",
   "metadata": {},
   "outputs": [
    {
     "name": "stdout",
     "output_type": "stream",
     "text": [
      "Requirement already satisfied: pycrf in c:\\users\\jites\\anaconda3\\lib\\site-packages (0.0.1)\n",
      "Requirement already satisfied: sklearn-crfsuite in c:\\users\\jites\\anaconda3\\lib\\site-packages (0.3.6)\n",
      "Requirement already satisfied: python-crfsuite>=0.8.3 in c:\\users\\jites\\anaconda3\\lib\\site-packages (from sklearn-crfsuite) (0.9.10)\n",
      "Requirement already satisfied: six in c:\\users\\jites\\anaconda3\\lib\\site-packages (from sklearn-crfsuite) (1.16.0)\n",
      "Requirement already satisfied: tabulate in c:\\users\\jites\\anaconda3\\lib\\site-packages (from sklearn-crfsuite) (0.8.10)\n",
      "Requirement already satisfied: tqdm>=2.0 in c:\\users\\jites\\anaconda3\\lib\\site-packages (from sklearn-crfsuite) (4.64.1)\n",
      "Requirement already satisfied: colorama in c:\\users\\jites\\anaconda3\\lib\\site-packages (from tqdm>=2.0->sklearn-crfsuite) (0.4.6)\n"
     ]
    }
   ],
   "source": [
    "!pip install pycrf\n",
    "!pip install sklearn-crfsuite"
   ]
  },
  {
   "cell_type": "code",
   "execution_count": 2,
   "id": "dfe119c0",
   "metadata": {},
   "outputs": [],
   "source": [
    "import warnings\n",
    "warnings.filterwarnings(\"ignore\")\n",
    "\n",
    "import pandas as pd\n",
    "import re\n",
    "import spacy\n",
    "\n",
    "# Import model and metrics\n",
    "from sklearn_crfsuite import CRF, scorers, metrics"
   ]
  },
  {
   "cell_type": "markdown",
   "id": "bb152045",
   "metadata": {},
   "source": [
    "### Preprocessing Functions"
   ]
  },
  {
   "cell_type": "code",
   "execution_count": 3,
   "id": "c073d372",
   "metadata": {},
   "outputs": [],
   "source": [
    "#Extracting sentence from words:\n",
    "def content_extract(file_path = '', sep = '\\t'):\n",
    "    '''It helps to extract the word based on the separator to form the sentence'''\n",
    "    try:\n",
    "        with open (file_path,'r', encoding = 'utf-8') as text:\n",
    "            if text.mode  == 'r':\n",
    "                content = text.readlines()\n",
    "        sentence = []\n",
    "        final_sentence=''\n",
    "        for c in content:\n",
    "            content_word = c.strip('\\n')\n",
    "            if content_word == '':\n",
    "                #Upon matching with the separator, it appends the previously extracted concatenated string as a sentence\n",
    "                #final_sentence = re.sub('(?<=[\\(]) | (?=[%\\',)])','', final_sentence)\n",
    "                sentence.append(final_sentence.strip(' '))\n",
    "\n",
    "                #Initialize for next sentence\n",
    "                final_sentence=''\n",
    "            else:\n",
    "                # Till the loop identifies the separator it concatenates string\n",
    "                final_sentence+=content_word+' '\n",
    "        print('Total identified value: ', len(sentence),'\\n')\n",
    "        print('Sample display value:\\n', sentence[:5])\n",
    "        return sentence\n",
    "    except FileNotFoundError:\n",
    "        print('Check and provide proper file path')"
   ]
  },
  {
   "cell_type": "markdown",
   "id": "3ece7a71",
   "metadata": {},
   "source": [
    "### Postprocessing Functions"
   ]
  },
  {
   "cell_type": "code",
   "execution_count": 4,
   "id": "3cdd7cfb",
   "metadata": {},
   "outputs": [],
   "source": [
    "#Class for extracting sentence details from a dataframe:\n",
    "class sentencedetail(object):\n",
    "    def __init__(self, data):\n",
    "        self.data = data\n",
    "        self.empty = False\n",
    "        agg_func = lambda s: [(w, p, l) for w, p, l in zip(s[\"word\"].values.tolist(), s[\"pos\"].values.tolist(),s[\"label\"].values.tolist())]\n",
    "        self.grouped = self.data.groupby(\"sentence\").apply(agg_func)\n",
    "        self.sentences = [s for s in self.grouped]"
   ]
  },
  {
   "cell_type": "markdown",
   "id": "7477d02c",
   "metadata": {},
   "source": [
    "### Feature Extraction"
   ]
  },
  {
   "cell_type": "code",
   "execution_count": 5,
   "id": "e8af4a71",
   "metadata": {},
   "outputs": [],
   "source": [
    "#Feature set:\n",
    "def word2features(sent, i):\n",
    "    word = sent[i][0]\n",
    "    postag = sent[i][1]\n",
    "\n",
    "    features = {\n",
    "        'bias': 1.0,\n",
    "        'word.lower()': word.lower(),\n",
    "        'word[0]': word[0],\n",
    "        'word[-1]': word[-1],\n",
    "        'word[-2:]': word[-2:],\n",
    "        'word.isupper()': word.isupper(),\n",
    "        'word.istitle()': word.istitle(),\n",
    "        'word.isdigit()': word.isdigit(),\n",
    "        'postag':postag,\n",
    "        'postag_isnounpronoun': postag in ['NOUN','PROPN'],\n",
    "        'postag[:2]': postag[:2],\n",
    "    }\n",
    "    if i > 0:\n",
    "        word1 = sent[i-1][0]\n",
    "        postag1 = sent[i-1][1]\n",
    "        features.update({\n",
    "            '-1:word.lower()': word1.lower(),\n",
    "            '-1:word[0]': word1[0],\n",
    "            '-1:word[-1]': word1[-1],\n",
    "            '-1:word.istitle()': word1.istitle(),\n",
    "            '-1:word.isupper()': word1.isupper(),\n",
    "            '-1:postag': postag1,\n",
    "            '-1:postag[:2]': postag1[:2],\n",
    "            '-1:postag_isnounpronoun': postag1 in ['NOUN','PROPN']\n",
    "        })\n",
    "    else:\n",
    "        features['BOS'] = True\n",
    "\n",
    "    if i < len(sent)-1:\n",
    "        word1 = sent[i+1][0]\n",
    "        postag1 = sent[i+1][1]\n",
    "        features.update({\n",
    "            '+1:word.lower()': word1.lower(),\n",
    "            '+1:word.istitle()': word1.istitle(),\n",
    "            '+1:word.isupper()': word1.isupper(),\n",
    "            '+1:postag': postag1,\n",
    "            '+1:postag[:2]': postag1[:2],\n",
    "            '+1:postag_isnounpronoun': postag1 in ['NOUN','PROPN']\n",
    "        })\n",
    "    else:\n",
    "        features['EOS'] = True\n",
    "\n",
    "    return features"
   ]
  },
  {
   "cell_type": "code",
   "execution_count": 6,
   "id": "388b6dab",
   "metadata": {},
   "outputs": [],
   "source": [
    "#Create a function to extract sentence features:\n",
    "def sent2features(sent):\n",
    "    return [word2features(sent, i) for i in range(len(sent))]"
   ]
  },
  {
   "cell_type": "code",
   "execution_count": 7,
   "id": "d8cb2980",
   "metadata": {},
   "outputs": [],
   "source": [
    "#Create a function for sentence labeling:\n",
    "def sent2labels(sent):\n",
    "    return [label for token, postag, label in sent]"
   ]
  },
  {
   "cell_type": "markdown",
   "id": "d6373c8c",
   "metadata": {},
   "source": [
    "# EDA"
   ]
  },
  {
   "cell_type": "markdown",
   "id": "36f08ddd",
   "metadata": {},
   "source": [
    "### Pre-processing"
   ]
  },
  {
   "cell_type": "markdown",
   "id": "f0553e18",
   "metadata": {},
   "source": [
    "The dataset is structured with one word per line. Let's grasp the data format outlined below:\n",
    "\n",
    "- Each sentence, comprising x words, is presented as x consecutive lines, with a clear separation between sentences marked by empty lines.\n",
    "\n",
    "- The labeling format for the data maintains consistency, following the structure outlined above for two consecutive sentences.\n",
    "\n",
    "**Data pre-processing is essential to retrieve intact sentences along with their corresponding labels.**"
   ]
  },
  {
   "attachments": {
    "2a1ec8a4-e26c-4b5b-bfe0-1816d14a4a30-syntactic%20sol%20pic3.png": {
     "image/png": "[encoded data removed]"
    }
   },
   "cell_type": "markdown",
   "id": "74fdbd67",
   "metadata": {},
   "source": [
    "![2a1ec8a4-e26c-4b5b-bfe0-1816d14a4a30-syntactic%20sol%20pic3.png](attachment:2a1ec8a4-e26c-4b5b-bfe0-1816d14a4a30-syntactic%20sol%20pic3.png)"
   ]
  },
  {
   "attachments": {
    "cad61c6d-534f-4452-81e6-dc02d7c8fcde-syntactic%20sol%20pic5.png": {
     "image/png": "[encoded data removed]"
    }
   },
   "cell_type": "markdown",
   "id": "cd87a834",
   "metadata": {},
   "source": [
    "![cad61c6d-534f-4452-81e6-dc02d7c8fcde-syntactic%20sol%20pic5.png](attachment:cad61c6d-534f-4452-81e6-dc02d7c8fcde-syntactic%20sol%20pic5.png)"
   ]
  },
  {
   "cell_type": "markdown",
   "id": "274a964f",
   "metadata": {},
   "source": [
    "The dataset pertains to disease and treatment labels, denoted as **O, D** and **T**, representing **Other, Disease** and **Treatment**, respectively."
   ]
  },
  {
   "cell_type": "code",
   "execution_count": 17,
   "id": "d7961566",
   "metadata": {},
   "outputs": [
    {
     "name": "stdout",
     "output_type": "stream",
     "text": [
      "Total identified value:  2599 \n",
      "\n",
      "Sample display value:\n",
      " ['All live births > or = 23 weeks at the University of Vermont in 1995 ( n = 2395 ) were retrospectively analyzed for delivery route , indication for cesarean , gestational age , parity , and practice group ( to reflect risk status )', 'The total cesarean rate was 14.4 % ( 344 of 2395 ) , and the primary rate was 11.4 % ( 244 of 2144 )', 'Abnormal presentation was the most common indication ( 25.6 % , 88 of 344 )', \"The `` corrected '' cesarean rate ( maternal-fetal medicine and transported patients excluded ) was 12.4 % ( 273 of 2194 ) , and the `` corrected '' primary rate was 9.6 % ( 190 of 1975 )\", \"Arrest of dilation was the most common indication in both `` corrected '' subgroups ( 23.4 and 24.6 % , respectively )\"]\n",
      "Total identified value:  2599 \n",
      "\n",
      "Sample display value:\n",
      " ['O O O O O O O O O O O O O O O O O O O O O O O O O O O O O O O O O O O O O O O O O O O O O', 'O O O O O O O O O O O O O O O O O O O O O O O O O', 'O O O O O O O O O O O O O O O', 'O O O O O O O O O O O O O O O O O O O O O O O O O O O O O O O O O O O O O O', 'O O O O O O O O O O O O O O O O O O O O O O']\n",
      "Total identified value:  1056 \n",
      "\n",
      "Sample display value:\n",
      " ['Furthermore , when all deliveries were analyzed , regardless of risk status but limited to gestational age > or = 36 weeks , the rates did not change ( 12.6 % , 280 of 2214 ; primary 9.2 % , 183 of 1994 )', 'As the ambient temperature increases , there is an increase in insensible fluid loss and the potential for dehydration', 'The daily high temperature ranged from 71 to 104 degrees F and AFI values ranged from 1.7 to 24.7 cm during the study period', 'There was a significant correlation between the 2- , 3- , and 4-day mean temperature and AFI , with the 4-day mean being the most significant ( r = 0.31 , p & # 60 ; 0.001 )', 'Fluctuations in ambient temperature are inversely correlated to changes in AFI']\n",
      "Total identified value:  1056 \n",
      "\n",
      "Sample display value:\n",
      " ['O O O O O O O O O O O O O O O O O O O O O O O O O O O O O O O O O O O O O O O O O O O O', 'O O O O O O O O O O O O O O O O O O O', 'O O O O O O O O O O O O O O O O O O O O O O O O', 'O O O O O O O O O O O O O O O O O O O O O O O O O O O O O O O O O O O O O O', 'O O O O O O O O O O O']\n"
     ]
    }
   ],
   "source": [
    "train_sentences = content_extract('train_sent')\n",
    "train_labels = content_extract('train_label')\n",
    "test_sentences = content_extract('test_sent')\n",
    "test_labels = content_extract('test_label')"
   ]
  },
  {
   "cell_type": "markdown",
   "id": "44ef4172",
   "metadata": {},
   "source": [
    "### Extracting POS information using spaCy"
   ]
  },
  {
   "cell_type": "code",
   "execution_count": 21,
   "id": "d040d3e8",
   "metadata": {},
   "outputs": [],
   "source": [
    "#Importing the spaCy small library for medical entity recognition:\n",
    "nlp_model = spacy.load(\"en_core_web_sm\")"
   ]
  },
  {
   "cell_type": "code",
   "execution_count": 22,
   "id": "11886651",
   "metadata": {},
   "outputs": [],
   "source": [
    "#Create a DataFrame for POS tagging, lemma words, and labels for both training and testing sentences:\n",
    "train_df = pd.DataFrame(columns = ['sentence','word','lemma','pos','label'])\n",
    "test_df = pd.DataFrame(columns = ['sentence','word','lemma','pos','label'])"
   ]
  },
  {
   "cell_type": "code",
   "execution_count": 26,
   "id": "2b855b9d",
   "metadata": {},
   "outputs": [],
   "source": [
    "#train datframe\n",
    "\n",
    "i=0 #Sentence count\n",
    "j=0 #Iteration count\n",
    "\n",
    "for sent,label in zip(train_sentences, train_labels):\n",
    "    i+=1\n",
    "    for s,l in zip(sent.split(),label.split()):\n",
    "        doc = nlp_model(s)\n",
    "        for tok in doc:\n",
    "            train_df.loc[j,['sentence','word','lemma','pos','label']] = [i,tok.text,tok.lemma_,tok.pos_,l]\n",
    "            j+=1"
   ]
  },
  {
   "cell_type": "code",
   "execution_count": 27,
   "id": "81f1c435",
   "metadata": {},
   "outputs": [],
   "source": [
    "#test datframe\n",
    "\n",
    "i=0 #Sentence count\n",
    "j=0 #Iteration count\n",
    "\n",
    "for sent,label in zip(test_sentences, test_labels):\n",
    "    i+=1\n",
    "    for s,l in zip(sent.split(),label.split()):\n",
    "        doc = nlp_model(s)\n",
    "        for tok in doc:\n",
    "            test_df.loc[j,['sentence','word','lemma','pos','label']] = [i,tok.text,tok.lemma_,tok.pos_,l]\n",
    "            j+=1"
   ]
  },
  {
   "cell_type": "markdown",
   "id": "e555c824",
   "metadata": {},
   "source": [
    "### Word frequency for POS tags NOUN and PROPN"
   ]
  },
  {
   "cell_type": "code",
   "execution_count": 28,
   "id": "e302608a",
   "metadata": {},
   "outputs": [],
   "source": [
    "#Word frequency for terms categorized as NOUN or PROPN in POS tagging:\n",
    "frequency_df = pd.DataFrame()\n",
    "frequency_df = pd.concat((train_df,test_df), axis = 0)"
   ]
  },
  {
   "cell_type": "code",
   "execution_count": 29,
   "id": "750feb9d",
   "metadata": {},
   "outputs": [],
   "source": [
    "#Reset the index:\n",
    "frequency_df.reset_index(inplace=True,drop=True)"
   ]
  },
  {
   "cell_type": "code",
   "execution_count": 30,
   "id": "938466c3",
   "metadata": {},
   "outputs": [
    {
     "data": {
      "text/plain": [
       "patients        492\n",
       "treatment       281\n",
       "cancer          200\n",
       "therapy         175\n",
       "disease         143\n",
       "cell            140\n",
       "lung            116\n",
       "group            94\n",
       "gene             88\n",
       "chemotherapy     88\n",
       "effects          85\n",
       "results          79\n",
       "women            77\n",
       "patient          75\n",
       "TO_SEE           75\n",
       "surgery          71\n",
       "risk             71\n",
       "cases            71\n",
       "analysis         70\n",
       "human            67\n",
       "rate             67\n",
       "response         66\n",
       "survival         65\n",
       "children         64\n",
       "effect           64\n",
       "Name: word, dtype: int64"
      ]
     },
     "execution_count": 30,
     "metadata": {},
     "output_type": "execute_result"
    }
   ],
   "source": [
    "#Top 25 most frequent values in both the Train and Test datasets for words:\n",
    "frequency_df[(frequency_df['pos'] == 'NOUN') | ((frequency_df['pos'] == 'PROPN'))]['word'].value_counts()[:25]"
   ]
  },
  {
   "cell_type": "code",
   "execution_count": 31,
   "id": "e3a38a0a",
   "metadata": {},
   "outputs": [
    {
     "data": {
      "text/plain": [
       "patient         587\n",
       "treatment       316\n",
       "cancer          226\n",
       "cell            203\n",
       "therapy         182\n",
       "disease         172\n",
       "effect          163\n",
       "case            132\n",
       "group           128\n",
       "lung            120\n",
       "result          118\n",
       "gene            112\n",
       "year            105\n",
       "rate            102\n",
       "trial            91\n",
       "chemotherapy     91\n",
       "woman            89\n",
       "analysis         86\n",
       "protein          82\n",
       "response         81\n",
       "risk             78\n",
       "child            78\n",
       "human            77\n",
       "TO_SEE           75\n",
       "mutation         75\n",
       "Name: lemma, dtype: int64"
      ]
     },
     "execution_count": 31,
     "metadata": {},
     "output_type": "execute_result"
    }
   ],
   "source": [
    "#Top 25 lemma word frequencies for Train and Test datasets:\n",
    "frequency_df[(frequency_df['pos'] == 'NOUN') | ((frequency_df['pos'] == 'PROPN'))]['lemma'].value_counts()[:25]"
   ]
  },
  {
   "cell_type": "markdown",
   "id": "67dea2db",
   "metadata": {},
   "source": [
    "### Visualize DataFrame (Sentence, Word, POS)"
   ]
  },
  {
   "cell_type": "code",
   "execution_count": 32,
   "id": "3af09496",
   "metadata": {},
   "outputs": [
    {
     "data": {
      "text/html": [
       "<div>\n",
       "<style scoped>\n",
       "    .dataframe tbody tr th:only-of-type {\n",
       "        vertical-align: middle;\n",
       "    }\n",
       "\n",
       "    .dataframe tbody tr th {\n",
       "        vertical-align: top;\n",
       "    }\n",
       "\n",
       "    .dataframe thead th {\n",
       "        text-align: right;\n",
       "    }\n",
       "</style>\n",
       "<table border=\"1\" class=\"dataframe\">\n",
       "  <thead>\n",
       "    <tr style=\"text-align: right;\">\n",
       "      <th></th>\n",
       "      <th>sentence</th>\n",
       "      <th>word</th>\n",
       "      <th>lemma</th>\n",
       "      <th>pos</th>\n",
       "      <th>label</th>\n",
       "    </tr>\n",
       "  </thead>\n",
       "  <tbody>\n",
       "    <tr>\n",
       "      <th>0</th>\n",
       "      <td>1</td>\n",
       "      <td>All</td>\n",
       "      <td>all</td>\n",
       "      <td>PRON</td>\n",
       "      <td>O</td>\n",
       "    </tr>\n",
       "    <tr>\n",
       "      <th>1</th>\n",
       "      <td>1</td>\n",
       "      <td>live</td>\n",
       "      <td>live</td>\n",
       "      <td>VERB</td>\n",
       "      <td>O</td>\n",
       "    </tr>\n",
       "    <tr>\n",
       "      <th>2</th>\n",
       "      <td>1</td>\n",
       "      <td>births</td>\n",
       "      <td>birth</td>\n",
       "      <td>NOUN</td>\n",
       "      <td>O</td>\n",
       "    </tr>\n",
       "    <tr>\n",
       "      <th>3</th>\n",
       "      <td>1</td>\n",
       "      <td>&gt;</td>\n",
       "      <td>&gt;</td>\n",
       "      <td>PUNCT</td>\n",
       "      <td>O</td>\n",
       "    </tr>\n",
       "    <tr>\n",
       "      <th>4</th>\n",
       "      <td>1</td>\n",
       "      <td>or</td>\n",
       "      <td>or</td>\n",
       "      <td>CCONJ</td>\n",
       "      <td>O</td>\n",
       "    </tr>\n",
       "  </tbody>\n",
       "</table>\n",
       "</div>"
      ],
      "text/plain": [
       "  sentence    word  lemma    pos label\n",
       "0        1     All    all   PRON     O\n",
       "1        1    live   live   VERB     O\n",
       "2        1  births  birth   NOUN     O\n",
       "3        1       >      >  PUNCT     O\n",
       "4        1      or     or  CCONJ     O"
      ]
     },
     "execution_count": 32,
     "metadata": {},
     "output_type": "execute_result"
    }
   ],
   "source": [
    "train_df.head()"
   ]
  },
  {
   "cell_type": "code",
   "execution_count": 33,
   "id": "2bb2fd6b",
   "metadata": {},
   "outputs": [
    {
     "data": {
      "text/html": [
       "<div>\n",
       "<style scoped>\n",
       "    .dataframe tbody tr th:only-of-type {\n",
       "        vertical-align: middle;\n",
       "    }\n",
       "\n",
       "    .dataframe tbody tr th {\n",
       "        vertical-align: top;\n",
       "    }\n",
       "\n",
       "    .dataframe thead th {\n",
       "        text-align: right;\n",
       "    }\n",
       "</style>\n",
       "<table border=\"1\" class=\"dataframe\">\n",
       "  <thead>\n",
       "    <tr style=\"text-align: right;\">\n",
       "      <th></th>\n",
       "      <th>sentence</th>\n",
       "      <th>word</th>\n",
       "      <th>lemma</th>\n",
       "      <th>pos</th>\n",
       "      <th>label</th>\n",
       "    </tr>\n",
       "  </thead>\n",
       "  <tbody>\n",
       "    <tr>\n",
       "      <th>0</th>\n",
       "      <td>1</td>\n",
       "      <td>Furthermore</td>\n",
       "      <td>furthermore</td>\n",
       "      <td>ADV</td>\n",
       "      <td>O</td>\n",
       "    </tr>\n",
       "    <tr>\n",
       "      <th>1</th>\n",
       "      <td>1</td>\n",
       "      <td>,</td>\n",
       "      <td>,</td>\n",
       "      <td>PUNCT</td>\n",
       "      <td>O</td>\n",
       "    </tr>\n",
       "    <tr>\n",
       "      <th>2</th>\n",
       "      <td>1</td>\n",
       "      <td>when</td>\n",
       "      <td>when</td>\n",
       "      <td>SCONJ</td>\n",
       "      <td>O</td>\n",
       "    </tr>\n",
       "    <tr>\n",
       "      <th>3</th>\n",
       "      <td>1</td>\n",
       "      <td>all</td>\n",
       "      <td>all</td>\n",
       "      <td>PRON</td>\n",
       "      <td>O</td>\n",
       "    </tr>\n",
       "    <tr>\n",
       "      <th>4</th>\n",
       "      <td>1</td>\n",
       "      <td>deliveries</td>\n",
       "      <td>delivery</td>\n",
       "      <td>NOUN</td>\n",
       "      <td>O</td>\n",
       "    </tr>\n",
       "  </tbody>\n",
       "</table>\n",
       "</div>"
      ],
      "text/plain": [
       "  sentence         word        lemma    pos label\n",
       "0        1  Furthermore  furthermore    ADV     O\n",
       "1        1            ,            ,  PUNCT     O\n",
       "2        1         when         when  SCONJ     O\n",
       "3        1          all          all   PRON     O\n",
       "4        1   deliveries     delivery   NOUN     O"
      ]
     },
     "execution_count": 33,
     "metadata": {},
     "output_type": "execute_result"
    }
   ],
   "source": [
    "test_df.head()"
   ]
  },
  {
   "cell_type": "markdown",
   "id": "24d5251b",
   "metadata": {},
   "source": [
    "### Prepare sentence-level detailed dataframe"
   ]
  },
  {
   "cell_type": "code",
   "execution_count": 34,
   "id": "48d4acb2",
   "metadata": {},
   "outputs": [],
   "source": [
    "#Retrieving detailed information for the training set:\n",
    "train_sentence_obj = sentencedetail(train_df)\n",
    "train_sentence_detail = train_sentence_obj.sentences"
   ]
  },
  {
   "cell_type": "code",
   "execution_count": 35,
   "id": "cb6cff81",
   "metadata": {},
   "outputs": [
    {
     "data": {
      "text/plain": [
       "[('All', 'PRON', 'O'),\n",
       " ('live', 'VERB', 'O'),\n",
       " ('births', 'NOUN', 'O'),\n",
       " ('>', 'PUNCT', 'O'),\n",
       " ('or', 'CCONJ', 'O'),\n",
       " ('=', 'VERB', 'O'),\n",
       " ('23', 'NUM', 'O'),\n",
       " ('weeks', 'NOUN', 'O'),\n",
       " ('at', 'ADP', 'O'),\n",
       " ('the', 'PRON', 'O'),\n",
       " ('University', 'NOUN', 'O'),\n",
       " ('of', 'ADP', 'O'),\n",
       " ('Vermont', 'PROPN', 'O'),\n",
       " ('in', 'ADP', 'O'),\n",
       " ('1995', 'NUM', 'O'),\n",
       " ('(', 'PUNCT', 'O'),\n",
       " ('n', 'CCONJ', 'O'),\n",
       " ('=', 'VERB', 'O'),\n",
       " ('2395', 'NUM', 'O'),\n",
       " (')', 'PUNCT', 'O'),\n",
       " ('were', 'AUX', 'O'),\n",
       " ('retrospectively', 'ADV', 'O'),\n",
       " ('analyzed', 'VERB', 'O'),\n",
       " ('for', 'ADP', 'O'),\n",
       " ('delivery', 'NOUN', 'O'),\n",
       " ('route', 'NOUN', 'O'),\n",
       " (',', 'PUNCT', 'O'),\n",
       " ('indication', 'NOUN', 'O'),\n",
       " ('for', 'ADP', 'O'),\n",
       " ('cesarean', 'VERB', 'O'),\n",
       " (',', 'PUNCT', 'O'),\n",
       " ('gestational', 'ADJ', 'O'),\n",
       " ('age', 'NOUN', 'O'),\n",
       " (',', 'PUNCT', 'O'),\n",
       " ('parity', 'NOUN', 'O'),\n",
       " (',', 'PUNCT', 'O'),\n",
       " ('and', 'CCONJ', 'O'),\n",
       " ('practice', 'VERB', 'O'),\n",
       " ('group', 'NOUN', 'O'),\n",
       " ('(', 'PUNCT', 'O'),\n",
       " ('to', 'PART', 'O'),\n",
       " ('reflect', 'VERB', 'O'),\n",
       " ('risk', 'NOUN', 'O'),\n",
       " ('status', 'NOUN', 'O'),\n",
       " (')', 'PUNCT', 'O')]"
      ]
     },
     "execution_count": 35,
     "metadata": {},
     "output_type": "execute_result"
    }
   ],
   "source": [
    "#Display a one-sentence detailed view of the training set:\n",
    "train_sentence_detail[0]"
   ]
  },
  {
   "cell_type": "code",
   "execution_count": 36,
   "id": "1f790cb9",
   "metadata": {},
   "outputs": [],
   "source": [
    "#Retrieving detailed sentence information for the training set:\n",
    "test_sentence_obj = sentencedetail(test_df)\n",
    "test_sentence_detail = test_sentence_obj.sentences"
   ]
  },
  {
   "cell_type": "code",
   "execution_count": 37,
   "id": "462fddb9",
   "metadata": {},
   "outputs": [
    {
     "data": {
      "text/plain": [
       "[('Furthermore', 'ADV', 'O'),\n",
       " (',', 'PUNCT', 'O'),\n",
       " ('when', 'SCONJ', 'O'),\n",
       " ('all', 'PRON', 'O'),\n",
       " ('deliveries', 'NOUN', 'O'),\n",
       " ('were', 'AUX', 'O'),\n",
       " ('analyzed', 'VERB', 'O'),\n",
       " (',', 'PUNCT', 'O'),\n",
       " ('regardless', 'ADV', 'O'),\n",
       " ('of', 'ADP', 'O'),\n",
       " ('risk', 'NOUN', 'O'),\n",
       " ('status', 'NOUN', 'O'),\n",
       " ('but', 'CCONJ', 'O'),\n",
       " ('limited', 'VERB', 'O'),\n",
       " ('to', 'PART', 'O'),\n",
       " ('gestational', 'ADJ', 'O'),\n",
       " ('age', 'NOUN', 'O'),\n",
       " ('>', 'PUNCT', 'O'),\n",
       " ('or', 'CCONJ', 'O'),\n",
       " ('=', 'VERB', 'O'),\n",
       " ('36', 'NUM', 'O'),\n",
       " ('weeks', 'NOUN', 'O'),\n",
       " (',', 'PUNCT', 'O'),\n",
       " ('the', 'PRON', 'O'),\n",
       " ('rates', 'NOUN', 'O'),\n",
       " ('did', 'VERB', 'O'),\n",
       " ('not', 'PART', 'O'),\n",
       " ('change', 'VERB', 'O'),\n",
       " ('(', 'PUNCT', 'O'),\n",
       " ('12.6', 'NUM', 'O'),\n",
       " ('%', 'INTJ', 'O'),\n",
       " (',', 'PUNCT', 'O'),\n",
       " ('280', 'NUM', 'O'),\n",
       " ('of', 'ADP', 'O'),\n",
       " ('2214', 'NUM', 'O'),\n",
       " (';', 'PUNCT', 'O'),\n",
       " ('primary', 'NOUN', 'O'),\n",
       " ('9.2', 'NUM', 'O'),\n",
       " ('%', 'INTJ', 'O'),\n",
       " (',', 'PUNCT', 'O'),\n",
       " ('183', 'NUM', 'O'),\n",
       " ('of', 'ADP', 'O'),\n",
       " ('1994', 'NUM', 'O'),\n",
       " (')', 'PUNCT', 'O')]"
      ]
     },
     "execution_count": 37,
     "metadata": {},
     "output_type": "execute_result"
    }
   ],
   "source": [
    "#Display a concise, one-sentence overview of the training set details:\n",
    "test_sentence_detail[0]"
   ]
  },
  {
   "cell_type": "markdown",
   "id": "56b435ba",
   "metadata": {},
   "source": [
    "# Input and Target Variable"
   ]
  },
  {
   "cell_type": "code",
   "execution_count": 38,
   "id": "0d48c138",
   "metadata": {},
   "outputs": [],
   "source": [
    "#Prepare X-train and X-test by extracting features from the training and testing datasets:\n",
    "X_train = [sent2features(s) for s in train_sentence_detail]\n",
    "X_test = [sent2features(s) for s in test_sentence_detail]"
   ]
  },
  {
   "cell_type": "code",
   "execution_count": 39,
   "id": "83aa0de8",
   "metadata": {},
   "outputs": [],
   "source": [
    "#Prepare y-train and y-test by extracting labels from the respective training and testing datasets:\n",
    "y_train = [sent2labels(l) for l in train_sentence_detail]\n",
    "y_test = [sent2labels(l) for l in test_sentence_detail]"
   ]
  },
  {
   "cell_type": "markdown",
   "id": "968efb1e",
   "metadata": {},
   "source": [
    "# Building a CRF model with sklearn"
   ]
  },
  {
   "cell_type": "code",
   "execution_count": 50,
   "id": "dc913853",
   "metadata": {},
   "outputs": [
    {
     "name": "stdout",
     "output_type": "stream",
     "text": [
      "Requirement already satisfied: sklearn-crfsuite in c:\\users\\jites\\anaconda3\\lib\\site-packages (0.3.6)\n",
      "Requirement already satisfied: python-crfsuite>=0.8.3 in c:\\users\\jites\\anaconda3\\lib\\site-packages (from sklearn-crfsuite) (0.9.10)\n",
      "Requirement already satisfied: six in c:\\users\\jites\\anaconda3\\lib\\site-packages (from sklearn-crfsuite) (1.16.0)\n",
      "Requirement already satisfied: tabulate in c:\\users\\jites\\anaconda3\\lib\\site-packages (from sklearn-crfsuite) (0.8.10)\n",
      "Requirement already satisfied: tqdm>=2.0 in c:\\users\\jites\\anaconda3\\lib\\site-packages (from sklearn-crfsuite) (4.64.1)\n",
      "Requirement already satisfied: colorama in c:\\users\\jites\\anaconda3\\lib\\site-packages (from tqdm>=2.0->sklearn-crfsuite) (0.4.6)\n"
     ]
    }
   ],
   "source": [
    "!pip install sklearn-crfsuite\n",
    "\n",
    "import sklearn_crfsuite\n",
    "from sklearn_crfsuite import metrics"
   ]
  },
  {
   "cell_type": "code",
   "execution_count": 51,
   "id": "b862b16a",
   "metadata": {},
   "outputs": [],
   "source": [
    "from sklearn_crfsuite import CRF"
   ]
  },
  {
   "cell_type": "code",
   "execution_count": 61,
   "id": "0b98f97a",
   "metadata": {},
   "outputs": [],
   "source": [
    "#Building the CRF model:\n",
    "#crf_model = CRF(max_iterations=100, c1=1.0, c2=0.01, all_possible_transitions = False)\n",
    "crf = sklearn_crfsuite.CRF(max_iterations=100)\n",
    "try:\n",
    "    #Fit the model:\n",
    "    crf.fit(X_train, y_train)\n",
    "except AttributeError:\n",
    "    pass\n",
    "predictions = crf.predict(X_test)"
   ]
  },
  {
   "cell_type": "markdown",
   "id": "f9336b89",
   "metadata": {},
   "source": [
    "# Evaluate model (F1-score)"
   ]
  },
  {
   "cell_type": "code",
   "execution_count": 62,
   "id": "42a705e7",
   "metadata": {},
   "outputs": [
    {
     "name": "stdout",
     "output_type": "stream",
     "text": [
      "Predicted F1-score for Medical Entity Dataset is: 91.26 % \n"
     ]
    }
   ],
   "source": [
    "#Compute the F1 score on the test dataset:\n",
    "y_pred = crf.predict(X_test)\n",
    "f1_score = metrics.flat_f1_score(y_test, y_pred, average = 'weighted')\n",
    "print('Predicted F1-score for Medical Entity Dataset is: {0} % '.format(round(f1_score*100,2)))"
   ]
  },
  {
   "cell_type": "markdown",
   "id": "5168a28d",
   "metadata": {},
   "source": [
    "# Predict Disease and Treatment"
   ]
  },
  {
   "cell_type": "code",
   "execution_count": 63,
   "id": "a6d1a526",
   "metadata": {},
   "outputs": [],
   "source": [
    "#Extracting the predicted label from the model:\n",
    "predicted_label = []\n",
    "for i in y_pred:\n",
    "    predicted_label.extend(i)"
   ]
  },
  {
   "cell_type": "code",
   "execution_count": 64,
   "id": "6dfbc257",
   "metadata": {},
   "outputs": [],
   "source": [
    "#Loading into test dataframe:\n",
    "test_df['label_predicted'] = predicted_label"
   ]
  },
  {
   "cell_type": "code",
   "execution_count": 65,
   "id": "60c587c9",
   "metadata": {},
   "outputs": [
    {
     "data": {
      "text/html": [
       "<div>\n",
       "<style scoped>\n",
       "    .dataframe tbody tr th:only-of-type {\n",
       "        vertical-align: middle;\n",
       "    }\n",
       "\n",
       "    .dataframe tbody tr th {\n",
       "        vertical-align: top;\n",
       "    }\n",
       "\n",
       "    .dataframe thead th {\n",
       "        text-align: right;\n",
       "    }\n",
       "</style>\n",
       "<table border=\"1\" class=\"dataframe\">\n",
       "  <thead>\n",
       "    <tr style=\"text-align: right;\">\n",
       "      <th></th>\n",
       "      <th>sentence</th>\n",
       "      <th>word</th>\n",
       "      <th>lemma</th>\n",
       "      <th>pos</th>\n",
       "      <th>label</th>\n",
       "      <th>label_predicted</th>\n",
       "    </tr>\n",
       "  </thead>\n",
       "  <tbody>\n",
       "    <tr>\n",
       "      <th>0</th>\n",
       "      <td>1</td>\n",
       "      <td>Furthermore</td>\n",
       "      <td>furthermore</td>\n",
       "      <td>ADV</td>\n",
       "      <td>O</td>\n",
       "      <td>O</td>\n",
       "    </tr>\n",
       "    <tr>\n",
       "      <th>1</th>\n",
       "      <td>1</td>\n",
       "      <td>,</td>\n",
       "      <td>,</td>\n",
       "      <td>PUNCT</td>\n",
       "      <td>O</td>\n",
       "      <td>O</td>\n",
       "    </tr>\n",
       "    <tr>\n",
       "      <th>2</th>\n",
       "      <td>1</td>\n",
       "      <td>when</td>\n",
       "      <td>when</td>\n",
       "      <td>SCONJ</td>\n",
       "      <td>O</td>\n",
       "      <td>O</td>\n",
       "    </tr>\n",
       "    <tr>\n",
       "      <th>3</th>\n",
       "      <td>1</td>\n",
       "      <td>all</td>\n",
       "      <td>all</td>\n",
       "      <td>PRON</td>\n",
       "      <td>O</td>\n",
       "      <td>O</td>\n",
       "    </tr>\n",
       "    <tr>\n",
       "      <th>4</th>\n",
       "      <td>1</td>\n",
       "      <td>deliveries</td>\n",
       "      <td>delivery</td>\n",
       "      <td>NOUN</td>\n",
       "      <td>O</td>\n",
       "      <td>O</td>\n",
       "    </tr>\n",
       "  </tbody>\n",
       "</table>\n",
       "</div>"
      ],
      "text/plain": [
       "  sentence         word        lemma    pos label label_predicted\n",
       "0        1  Furthermore  furthermore    ADV     O               O\n",
       "1        1            ,            ,  PUNCT     O               O\n",
       "2        1         when         when  SCONJ     O               O\n",
       "3        1          all          all   PRON     O               O\n",
       "4        1   deliveries     delivery   NOUN     O               O"
      ]
     },
     "execution_count": 65,
     "metadata": {},
     "output_type": "execute_result"
    }
   ],
   "source": [
    "#Visualizing the top 5 data:\n",
    "test_df.head()"
   ]
  },
  {
   "cell_type": "markdown",
   "id": "0a4ee520",
   "metadata": {},
   "source": [
    "# Dictionary Preparation"
   ]
  },
  {
   "cell_type": "code",
   "execution_count": 66,
   "id": "400883b0",
   "metadata": {},
   "outputs": [],
   "source": [
    "#Creating a dictionary where diseases serve as unique keys and their corresponding treatments as values:\n",
    "new_df = test_df[(test_df['label_predicted'] != 'O')]\n",
    "new_df.set_index('sentence', inplace = True)\n",
    "disease = []\n",
    "treatment = []\n",
    "sentence = []\n",
    "med_dict = {}\n",
    "for i in new_df.index.unique():\n",
    "    try:\n",
    "        val = new_df.loc[i,'label_predicted'].unique()\n",
    "        if len(val) == 2:\n",
    "            disease_value = new_df[new_df['label_predicted'] == 'D'].loc[i,'word']\n",
    "            treatment_value = new_df[new_df['label_predicted'] == 'T'].loc[i,'word']\n",
    "            disease_single = disease_value if type(disease_value) == str else \" \".join(disease_value)\n",
    "            treatment_single = treatment_value if type(treatment_value) == str else \" \".join(treatment_value)\n",
    "            if disease_single not in disease:\n",
    "                med_dict[disease_single] = treatment_single\n",
    "            else:\n",
    "                print('Entered')\n",
    "                med_dict[disease_single] = med_dict.get(disease_single)+'/'+treatment_single\n",
    "    except AttributeError:\n",
    "        pass"
   ]
  },
  {
   "cell_type": "code",
   "execution_count": 67,
   "id": "a157bd07",
   "metadata": {},
   "outputs": [
    {
     "name": "stdout",
     "output_type": "stream",
     "text": [
      "{'nonimmune hydrops fetalis': 'Trisomy', 'retinoblastoma': 'radiotherapy', 'epilepsy': 'Methylphenidate', 'unstable angina or non - Q - wave myocardial infarction': 'roxithromycin', 'coronary - artery disease': 'Antichlamydial antibiotics', 'cellulitis': 'G - CSF therapy intravenous antibiotic treatment', 'foot infection': 'G - CSF treatment', 'hemorrhagic stroke': 'double - bolus alteplase', 'cardiac disease': 'fenfluramine - phentermine', \"early Parkinson 's disease\": 'Ropinirole monotherapy', 'treating stress urinary incontinence': 'surgical procedures', 'female stress urinary incontinence': 'surgical treatment', 'preeclampsia ( proteinuric hypertension )': 'intrauterine insemination with donor sperm versus intrauterine insemination', 'severe acquired hyperammonemia cancer': 'organ transplantation and chemotherapy', 'major pulmonary embolism': 'thrombolytic treatment', 'malignant pleural mesothelioma': 'radiotherapy , and chemotherapy', 'pulmonary symptoms': 'chemotherapy', 'non - obstructive azoospermia': 'testicular fine needle aspiration ( TEFNA ) open biopsy and testicular sperm extraction ( TESE', 'heart failure': 'beta - blockade', 'duodenal ulcer': 'subtotal gastrectomy', 'colorectal cancer': 'docosahexanoic acid ( DHA ) -concentrated fish oil capsules', 'gastrointestinal tumours': 'Elective surgery', 'restenosis': 'coronary angioplasty', 'bronchial asthma': 'Non - steroidal anti - inflammatory therapy', \"Parkinson 's disease\": 'Microelectrode - guided posteroventral pallidotomy', 'Alopecia': 'tacrolimus therapy', \"Eisenmenger 's syndrome\": 'laparoscopic cholecystectomy', 'breast cancer': 'Hormone replacement therapy', 'non - seminomatous germ - cell tumors': 'chemotherapy', 'orthotopic tumor control pre - established metastases': 'adenovirus - mediated interleukin 12 ( il-12 ) gene therapy', 'malignant tumors such as non - small cell lung cancer': 'surgery', 'abdominal pain': 'thoracic paravertebral block ( tpvb )', 'inflammatory skin diseases': 'topical corticosteroids', 'nsclc nsclc ( stage iiib ) sclc': 'got surgical treatment', 'nsclc': 'platinum - based chemotherapy', 'locally advanced non - small - cell lung cancer ( la - nsclc )': 'combined - modality therapy ( cmt ; chemotherapy and radiotherapy )', 'radiation - induced myelopathy': 'heparin and enoxaparin', 'limited stage small cell lung cancer': 'vip combination chemotherapy and early concurrent thoracic irradiation', 'malignant pleural effusions from nsclc': 'systemic chemotherapy', 'small - cell lung cancer': 'combination chemotherapy', 'intraluminal early - stage cancer': 'photodynamic therapy , nd - yag laser and electrocautery', 'supraclavicular node metastases in nsclc': 'chemoradiotherapy', 'non - small - cell - lung - cancer ( nsclc )': 'cisplatin and radiotherapy', 'lung carcinoma': 'videothoracoscopic lobectomy or partial resection of the lung instead of an open thoracotomy', 'stage 0 lung carcinoma': 'curative therapy', 'single non - sclc ovarian carcinoma brain metastasis': 'surgical resection', 'colorectal metastases': 'therapeutic vats metastasectomy', 'limited - stage small - cell carcinoma': 'combined - modality therapy', 'advanced nsclc': 'assessing combination chemotherapy of cisplatin , ifosfamide and irinotecan with rhg - csf support', \"non - hodgkin 's lymphoma breast cancer mesothelioma and non - small cell lung cancer\": 'oxaliplatin', 'primary tumor ( li ) bronchogenic carcinoma': 'resection', 'non - small cell lung cancer hormone refractory prostate cancer': 'combination with paclitaxel and carboplatin', 'primary lung cancer adenocarcinoma squamous cell carcinoma': 'resection', 'stage iii nsclc': 'chemotherapy administered before surgery', 'primary cancer': 'adjuvant radiation therapy', 'advanced non -- small - cell lung cancer': 'paclitaxel plus carboplatin ( pc ) vinorelbine plus cisplatin ( vc )', 'sclc extensive disease': 'platinum dose ( cisplatin plus carboplatin ) in combination chemotherapy combination therapy with carboplatin', 'untreated small cell lung cancer ( sclc ) untreated sclc': 'technetium-99 m tetrofosmin ( tc - tf ) accumulation chemotherapy', 'neutropenia': 'recombinant human granulocyte colony - stimulating factor ( rhg - csf ) cancer chemotherapy', 'head and neck cancer xerostomia': 'irradiation therapy', 'psoriasis': 'topical therapy', 'disseminated malignant melanoma': 'leukocyte A recombinant interferon ( rIFN - alpha A , Roferon - A', 'ventricular tachycardia': 'surgical therapy', 'non - functioning endocrine pancreatic tumor with progressive liver and lymph node metastases': 'i.m . lanreotide therapy', 'cholestasis': 'Inchinko - to ( TJ-135 ) crude drugs', 'severe acute hepatitis accompanying cholestasis hepatitis': 'TJ-135', 'syringomyelia spinal adhesive arachnoiditis': 'Surgical management', 'bronchiectasis': 'Current surgical therapy', 'biliary colic symptoms biliary dyskinesia': 'cholecystectomy', 'biliary dyskinesia': 'Cholecystectomy', 'asthma': 'Fluticasone propionate', 'acute nasopharyngitis': 'antibiotic treatment', 'influenza breast cancer': 'vaccination', 'infection': 'combination of omeprazole , amoxicillin , and clarithromycin', 'carcinoma': 'esophagectomy', 'persistent asthma': 'Contemporary asthma management guidelines list inhaled corticosteroids', 'chronic hepatitis C': 'Combination therapy with interferon - alpha ( IFN alpha ) plus Ribavirin', 'hepatitis C viremia': 'combination therapy', 'duodenogastric reflux': 'cholecystectomy', 'severe hypoxemia': 'mechanical ventilation glucocorticoid pulse therapy', 'AOM': 'Amoxicillin remains the antibiotic of choice', 'bacterial meningitis include a dramatic decline Haemophilus influenzae meningitis': 'antibiotic - resistant strains', 'primary sclerosing cholangitis ( PSC )': 'oral budesonide', 'acute myocardial infarction': 'thrombolytic treatment', 's.c . tumors peritoneal tumors': 'Subcutaneous injection of irradiated LLC - IL2', 'large embolus or high - grade stenosis': 'thrombolytic therapy', 'inflammatory and autoimmune diseases': 'High - dose intravenous immunoglobulin ( hdIVIg )', 'cancer': 'Matrix metalloproteinase inhibitors', 'large - bowel cancer oral LV': 'oral UFT', 'phaeochromocytoma': 'Adrenalectomy', 'malignant melanoma': 'single agent therapy interferon alfa-2a', 'advanced renal cell carcinoma': 'various interferon alpha preparations interferon alfa - N1 , interferon alfa-2a , and interferon alfa-2b , have', 'hairy cell leukemia infection': 'antileukemic therapy', \"low - grade non - Hodgkin 's lymphoma\": 'interferon alpha', 'partial seizures': 'lamotrigine monotherapy', 'esophageal achalasia': 'botulinum toxin injection , pneumatic dilation , and laparoscopic myotomy', 'proximal hypospadias': 'Tubularized incised plate hypospadias repair', 'prostate cancer': 'radical prostatectomy and iodine 125 interstitial radiotherapy', 'mitomycin - resistant bladder cancer': 'photodynamic therapy in combination with mitomycin C', 'B16 melanoma': 'adenosine triphosphate and treatment with buthionine sulfoximine', 'primary uveal melanoma': 'transpupillary thermotherapy', 'advanced rectal cancer': 'Nerve - sparing surgery', 'spontaneous pneumothorax': 'Thoracoscopic surgery', 'empyema': 'Thoracoscopy', 'acute cerebral ischemia': 'Antiplatelet therapy', 'renal cell carcinoma': 'Interferon treatment', 'myocardial angiogenesis': 'Gene therapy', 'hemolytic anemia': 'heparin', 'epithelial ovarian cancer': 'High - dose chemotherapy with autologous stem - cell support', \"Frontal dysfunction blocks Alzheimer 's disease\": 'THA', 'renovascular hypertension': 'Percutaneous transluminal angioplasty', 'moderately symptomatic benign prostatic hyperplasia': 'surgical resection', 'pulmonary hypertension': 'Single or double lung transplantation', 'multiple sclerosis': 'Intravenous immunoglobulin treatment', 'acoustic neuroma': 'Stereotactic radiosurgery', 'cerebral palsy': 'Hyperbaric oxygen therapy', 'postvitrectomy diabetic vitreous hemorrhage': 'Peripheral retinal cryotherapy', 'acute carbon monoxide': 'Hyperbaric or normobaric oxygen', 'novel hepatitis B': 'vaccine', 'pertussis': 'vaccines', 'acute colonic pseudo - obstruction': 'Neostigmine', 'perioperative mortality and myocardial infarction': 'vascular surgery', 'severe secondary peritonitis': 'Surgical management', 'hepatic metastases from colorectal cancer': 'Hepatic arterial infusion of chemotherapy after resection', 'multiple myeloma': \"` ` Tandem '' high - dose chemoradiotherapy with autologous stem - cell support\"}\n"
     ]
    }
   ],
   "source": [
    "print(med_dict)"
   ]
  },
  {
   "cell_type": "code",
   "execution_count": 68,
   "id": "bbbafe84",
   "metadata": {},
   "outputs": [
    {
     "name": "stdout",
     "output_type": "stream",
     "text": [
      "Identified Disease:  rectalcancer\n",
      "Identified Treatment:  Matrix metalloproteinase inhibitors\n"
     ]
    }
   ],
   "source": [
    "#Forecast treatment using a dictionary:\n",
    "d = []\n",
    "disease = ''\n",
    "test_sent = []\n",
    "treatment = ''\n",
    "\n",
    "input_sent = 'Rahul suffering from advanced rectal cancer'\n",
    "m = spacy.load('en_core_web_sm')\n",
    "doc = m(input_sent)\n",
    "for i in doc:\n",
    "    d.append((i.text,i.pos_,'D'))\n",
    "test_sent.append(sent2features(d))\n",
    "for i,tag in enumerate(crf.predict(test_sent)[0]):\n",
    "    if tag == 'D':\n",
    "        tr = input_sent.split()[i]\n",
    "        disease += tr\n",
    "        if tr in med_dict:\n",
    "            treatment += ''+med_dict.get(tr)\n",
    "if len(treatment) == 0:\n",
    "    treatment = 'None'\n",
    "print('Identified Disease: ',disease)\n",
    "print('Identified Treatment: ', treatment)"
   ]
  },
  {
   "cell_type": "code",
   "execution_count": null,
   "id": "acbc2eed",
   "metadata": {},
   "outputs": [],
   "source": []
  },
  {
   "cell_type": "code",
   "execution_count": null,
   "id": "d7c9a3af",
   "metadata": {},
   "outputs": [],
   "source": []
  }
 ],
 "metadata": {
  "kernelspec": {
   "display_name": "Python 3 (ipykernel)",
   "language": "python",
   "name": "python3"
  },
  "language_info": {
   "codemirror_mode": {
    "name": "ipython",
    "version": 3
   },
   "file_extension": ".py",
   "mimetype": "text/x-python",
   "name": "python",
   "nbconvert_exporter": "python",
   "pygments_lexer": "ipython3",
   "version": "3.9.13"
  }
 },
 "nbformat": 4,
 "nbformat_minor": 5
}
